{
 "cells": [
  {
   "cell_type": "markdown",
   "id": "0999cede-db5f-422d-a274-3f79d518cb4a",
   "metadata": {},
   "source": [
    "# Maxar Stereo Data \n",
    "\n",
    "This notebooks illustrates basic search and visualization of Maxar Stereo Imagery.\n",
    "\n",
    "Coincident uses the [Maxar 'discovery' STAC API](https://developers.maxar.com/docs/discovery/) to find high resolution stereo data."
   ]
  },
  {
   "cell_type": "code",
   "execution_count": null,
   "id": "7d8e7c07-07e9-4067-8326-2647fe7e7e10",
   "metadata": {},
   "outputs": [],
   "source": [
    "import coincident\n",
    "import geopandas as gpd\n",
    "import matplotlib.pyplot as plt\n",
    "\n",
    "%matplotlib inline"
   ]
  },
  {
   "cell_type": "markdown",
   "id": "874cc5df-a1cd-4572-817b-8694965e4576",
   "metadata": {},
   "source": [
    "## Basic search\n",
    "\n",
    "Below we use a simple bounding box, date range, and filter to find scenes with cloud cover less than 25%"
   ]
  },
  {
   "cell_type": "code",
   "execution_count": null,
   "id": "f3f2f631-ba42-4093-add5-de3198643ded",
   "metadata": {},
   "outputs": [],
   "source": [
    "bbox = [-71.8, 42.0, -71.5, 42.1]\n",
    "\n",
    "gf_stereo = coincident.search.search(\n",
    "    dataset=\"maxar\",\n",
    "    bbox=bbox,\n",
    "    datetime=[\"2021-03-08\", \"2021-04-01\"],\n",
    "    filter=\"eo:cloud_cover < 25\",\n",
    ")\n",
    "len(gf_stereo)"
   ]
  },
  {
   "cell_type": "code",
   "execution_count": null,
   "id": "dc75560e-16ad-4027-8c5e-7de41079f28a",
   "metadata": {},
   "outputs": [],
   "source": [
    "# Print all the metadata for a particular scene\n",
    "# Note 'stereo_pair_identifiers' and 'id' for ordering full-resolution data\n",
    "with gpd.pd.option_context(\n",
    "    \"display.max_rows\", None, \"display.max_columns\", None\n",
    "):  # more options can be specified also\n",
    "    print(gf_stereo.iloc[0])"
   ]
  },
  {
   "cell_type": "code",
   "execution_count": null,
   "id": "972300fb-d3d9-4dbd-8b2e-658d467116d9",
   "metadata": {
    "scrolled": true
   },
   "outputs": [],
   "source": [
    "popcols = [\"title\", \"eo:cloud_cover\", \"datetime\", \"view:azimuth\", \"view:off_nadir\"]\n",
    "gf_stereo.explore(popup=popcols)"
   ]
  },
  {
   "cell_type": "markdown",
   "id": "b50fec2b-ea44-4c70-8a8e-3a353ae2d87a",
   "metadata": {},
   "source": [
    "## Load browse image \n",
    "\n",
    "Maxar provides monochrome uint8 or RGB browse images at ~30m resolution that we can visualize before ordering the full-resolution scenes. "
   ]
  },
  {
   "cell_type": "code",
   "execution_count": null,
   "id": "07e9f611-1d85-4023-ae32-40d29e9c1b06",
   "metadata": {},
   "outputs": [],
   "source": [
    "# We first convert from geopandas metadata to a pystac items\n",
    "items = coincident.search.to_pystac_items(gf_stereo)"
   ]
  },
  {
   "cell_type": "code",
   "execution_count": null,
   "id": "2f06dc6e-29c7-4d58-bc24-f8f9aa8c245f",
   "metadata": {},
   "outputs": [],
   "source": [
    "da = coincident.io.xarray.open_maxar_browse(items[0]).squeeze()\n",
    "da"
   ]
  },
  {
   "cell_type": "markdown",
   "id": "0371a631-7716-4108-979e-4d6a48baad91",
   "metadata": {},
   "source": [
    "## Plot browse image\n",
    "\n",
    "For convenience you can create simplified figures directly without first loading the data with Xarray. Browse images are cloud-optimized-geotiffs with overviews for efficient previewing."
   ]
  },
  {
   "cell_type": "code",
   "execution_count": null,
   "id": "4da794c0-72a7-434e-8f9d-869f664510cb",
   "metadata": {},
   "outputs": [],
   "source": [
    "coincident.plot.plot_maxar_browse(items[0], overview_level=2);"
   ]
  },
  {
   "cell_type": "markdown",
   "id": "74d6baba-b683-4dcd-b98f-3485f677b100",
   "metadata": {},
   "source": [
    "## Advanced Search\n",
    "\n",
    "Optical imagery often has estimates of cloud-cover in the metadata. This is typically a single percentage value for the entire scene footprint. The [Maxar API](https://developers.maxar.com/docs/discovery/guides/discovery-guide#area-based-calculations) goes a step further allowing for filtering cloudcover for *only* the AOI rather than the entire scene footprint.\n",
    "\n",
    "![](https://developers.maxar.com/assets/images/area-based-calc-56bf8d3e6cddc55ae8dcc36ddc4f41c6.png)\n",
    "\n",
    "\n",
    "Activating the \"area_based_calc\" search feature through coincident requires modifying the default \"maxar\" dataset class. Once activated, in addition to 'eo:cloud_cover' 'view:off_nadir' metadata will include 'area:cloud_cover_percentage' and 'area:avg_off_nadir_angle'\n",
    "\n",
    "Note that these searches will take longer!"
   ]
  },
  {
   "cell_type": "code",
   "execution_count": null,
   "id": "49f4e06b-9c6e-4549-8be9-fcd774d36872",
   "metadata": {},
   "outputs": [],
   "source": [
    "maxar = coincident.datasets.maxar.Stereo()\n",
    "maxar"
   ]
  },
  {
   "cell_type": "code",
   "execution_count": null,
   "id": "00a72156-3e8f-4769-90e4-fb039506d7d5",
   "metadata": {},
   "outputs": [],
   "source": [
    "# Use AOI-based estimates of cloud-cover instead of entire scene\n",
    "maxar.area_based_calc = True"
   ]
  },
  {
   "cell_type": "code",
   "execution_count": null,
   "id": "9ae8299b-11c3-4bee-9b7f-504954083ddb",
   "metadata": {},
   "outputs": [],
   "source": [
    "gf = coincident.search.search(\n",
    "    dataset=maxar,\n",
    "    bbox=bbox,\n",
    "    datetime=[\"2021-03-08\", \"2021-04-01\"],\n",
    ")\n",
    "\n",
    "cols = [\n",
    "    \"title\",\n",
    "    \"eo:cloud_cover\",\n",
    "    \"area:cloud_cover_percentage\",\n",
    "    \"view:off_nadir\",\n",
    "    \"area:avg_off_nadir_angle\",\n",
    "]\n",
    "gf[cols]"
   ]
  },
  {
   "cell_type": "code",
   "execution_count": null,
   "id": "68afccc8-0955-4449-a93f-781457dae74b",
   "metadata": {},
   "outputs": [],
   "source": [
    "# Plot with cloud-cover\n",
    "items = coincident.search.to_pystac_items(gf)\n",
    "item = items[0]\n",
    "\n",
    "ax = coincident.plot.plot_maxar_browse(item, overview_level=1)\n",
    "# Add AOI\n",
    "rect = plt.Rectangle(\n",
    "    (bbox[0], bbox[1]),\n",
    "    bbox[2] - bbox[0],\n",
    "    bbox[3] - bbox[1],\n",
    "    linewidth=2,\n",
    "    edgecolor=\"magenta\",\n",
    "    facecolor=\"none\",\n",
    ")\n",
    "ax.add_patch(rect)\n",
    "plt.autoscale()"
   ]
  },
  {
   "cell_type": "markdown",
   "id": "66bc998d-b50c-4c56-b10a-80ce3267795d",
   "metadata": {},
   "source": [
    "## Load cloud-cover polygon\n",
    "\n",
    "For each acquisition, Maxar includes a Multipolygon that estimates cloud cover. Behind the scenes, coincident uses the stac-asset library to read and download assets of any STAC item. Because stac-asset uses asynchronous functions, you have to use `await` to return results."
   ]
  },
  {
   "cell_type": "code",
   "execution_count": null,
   "id": "23931e23-45bf-40dc-9148-15a97f948b87",
   "metadata": {},
   "outputs": [],
   "source": [
    "bytes = await coincident.io.download.read_href(item, \"cloud-cover\")\n",
    "gf_clouds = gpd.read_file(bytes)\n",
    "gf_clouds.explore()"
   ]
  },
  {
   "cell_type": "markdown",
   "id": "8e875773-dd80-429a-8b34-c35eeb8f0eac",
   "metadata": {},
   "source": [
    "## Download browse image + metadata\n",
    "\n",
    "coincident wraps the stac-asset library to easily download local copies of a STAC item and all of its assets (e.g. metadata and cloud cover mask)"
   ]
  },
  {
   "cell_type": "code",
   "execution_count": null,
   "id": "5e404ac2-b935-4ffa-8f44-67d143868ba9",
   "metadata": {},
   "outputs": [],
   "source": [
    "# Set download directory to match item STAC ID\n",
    "download_dir = f\"/tmp/{item.id}\"\n",
    "local_item = await coincident.io.download.download_item(item, download_dir)"
   ]
  },
  {
   "cell_type": "code",
   "execution_count": null,
   "id": "63fec906-24f9-484b-98c3-11ba215ec157",
   "metadata": {},
   "outputs": [],
   "source": [
    "!ls {download_dir}"
   ]
  }
 ],
 "metadata": {
  "kernelspec": {
   "display_name": "Python 3 (ipykernel)",
   "language": "python",
   "name": "python3"
  },
  "language_info": {
   "codemirror_mode": {
    "name": "ipython",
    "version": 3
   },
   "file_extension": ".py",
   "mimetype": "text/x-python",
   "name": "python",
   "nbconvert_exporter": "python",
   "pygments_lexer": "ipython3",
   "version": "3.11.12"
  },
  "pixi-kernel": {
   "environment": "dev"
  }
 },
 "nbformat": 4,
 "nbformat_minor": 5
}
