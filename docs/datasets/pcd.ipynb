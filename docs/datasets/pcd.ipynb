{
 "cells": [
  {
   "cell_type": "markdown",
   "id": "0",
   "metadata": {},
   "source": [
    "# Load in Precursor Coincident Dataset sites On-Demand\n",
    "\n",
    "`coincident` supports both reading into memory and downloading the Precursor Coincident Dataset (PCD) sites explained in https://coincident.readthedocs.io/en/latest/datasets\n",
    "\n",
    "You can read in individual sites by memory given their PCD ID, or you can download the respective spatiotemporal metadata for ALL sites"
   ]
  },
  {
   "cell_type": "code",
   "execution_count": null,
   "id": "1",
   "metadata": {},
   "outputs": [],
   "source": [
    "from coincident import pcd_fixtures\n",
    "import matplotlib.pyplot as plt"
   ]
  },
  {
   "cell_type": "code",
   "execution_count": null,
   "id": "2",
   "metadata": {},
   "outputs": [],
   "source": [
    "pcd_fixtures.read_pcd_site?"
   ]
  },
  {
   "cell_type": "markdown",
   "id": "3",
   "metadata": {},
   "source": [
    "Remember, our sites are below:\n",
    "\n",
    "| Provider | PCD Site Identifier          | Description                                                 | Fourway Overlap Area (km²) | Aerial Lidar Start Date | Aerial Lidar End Date |\n",
    "| :------- | :--------------------------- | :---------------------------------------------------------- | :------------------------- | :---------------------- | :-------------------- |\n",
    "| USGS     | `CA_SanFrancisco_1_B23`      | Urban over San Francisco                                    | 55                         | 2023-04-20              | 2023-04-20            |\n",
    "| USGS     | `AZ_PimaCo_2_2021`           | Desert / Mine in southern Arizona                           | 53                         | 2021-09-27              | 2021-11-17            |\n",
    "| NEON     | `REDB`                       | Deciduous / Conifer in northern Utah                        | 25                         | 2021-05-20              | 2021-05-21            |\n",
    "| USGS     | `NE_Northeast_Phase2_2_2020` | Cropland in eastern Nebraska                                | 540                        | 2020-11-16              | 2020-12-09            |\n",
    "| USGS     | `WI_Brown_2_2020`            | Urban / Wetlands in Green Bay, Wisconsin                    | 89                         | 2020-05-07              | 2020-05-07            |\n",
    "| USGS     | `GA_Central_3_2019`          | Mixed LULC in southern Georgia                              | 745                        | 2020-02-02              | 2020-03-28            |\n",
    "| NCALM    | `OTLAS.092021.32611.1`       | Southern San Andreas fault line                             | 12                         | 2020-02-15              | 2020-02-18            |\n",
    "| USGS     | `CA_YosemiteNP_2019`         | Coniferous / Mountainous in northern Yosemite National Park | 84                         | 2019-10-07              | 2019-10-23            |\n",
    "| USGS     | `TX_DesertMountains_B1_2018` | Shrubland / Grassland in western Texas                      | 165                        | 2019-09-11              | 2019-10-20            |\n",
    "| NEON     | `BART`                       | Mixed hardwood forest in eastern New Hampshire              | 32                         | 2019-08-25              | 2019-08-25            |\n",
    "| USGS     | `CO_WestCentral_2019`        | Coniferous / Mountainous in the Colorado Rockies            | 184                        | 2019-08-21              | 2019-09-19            |\n",
    "| USGS     | `WY_FEMA_East_B9_2019`       | Glaciers / Mountainous in western Wyoming                   | 681                        | 2019-07-26              | 2019-09-22            |\n",
    "| NEON     | `WREF`                       | Conifer forest in southern Washington state                 | 18                         | 2019-07-12              | 2019-07-15            |\n",
    "\n",
    "```{note}\n",
    "The NCALM site's \"ground truth\" is not aerial lidar, but rather dense aerial SfM from a drone\n",
    "```"
   ]
  },
  {
   "cell_type": "code",
   "execution_count": null,
   "id": "4",
   "metadata": {},
   "outputs": [],
   "source": [
    "%%time\n",
    "dict_GA_Central_3_2019 = pcd_fixtures.read_pcd_site(\"GA_Central_3_2019\")"
   ]
  },
  {
   "cell_type": "markdown",
   "id": "5",
   "metadata": {},
   "source": [
    "```{note}\n",
    "Some sites take a longer time to read in than others (ranging from a few seconds to ~1 minute). This is mainly dependent on the overlap area and length of date range.\n",
    "```"
   ]
  },
  {
   "cell_type": "code",
   "execution_count": null,
   "id": "6",
   "metadata": {},
   "outputs": [],
   "source": [
    "gf_als = dict_GA_Central_3_2019[\"als\"]\n",
    "gf_maxar = dict_GA_Central_3_2019[\"maxar\"]\n",
    "gf_is2 = dict_GA_Central_3_2019[\"is2\"]\n",
    "gf_gedi = dict_GA_Central_3_2019[\"gedi\"]\n",
    "gf_overlap = dict_GA_Central_3_2019[\"overlap\"]"
   ]
  },
  {
   "cell_type": "code",
   "execution_count": null,
   "id": "7",
   "metadata": {},
   "outputs": [],
   "source": [
    "gf_als"
   ]
  },
  {
   "cell_type": "code",
   "execution_count": null,
   "id": "8",
   "metadata": {},
   "outputs": [],
   "source": [
    "gf_maxar"
   ]
  },
  {
   "cell_type": "code",
   "execution_count": null,
   "id": "9",
   "metadata": {},
   "outputs": [],
   "source": [
    "gf_is2"
   ]
  },
  {
   "cell_type": "code",
   "execution_count": null,
   "id": "10",
   "metadata": {},
   "outputs": [],
   "source": [
    "gf_gedi"
   ]
  },
  {
   "cell_type": "code",
   "execution_count": null,
   "id": "11",
   "metadata": {},
   "outputs": [],
   "source": [
    "gf_overlap"
   ]
  },
  {
   "cell_type": "markdown",
   "id": "12",
   "metadata": {},
   "source": [
    "Visualize the acquisition times of the PCD site"
   ]
  },
  {
   "cell_type": "code",
   "execution_count": null,
   "id": "13",
   "metadata": {},
   "outputs": [],
   "source": [
    "fig, ax = plt.subplots(figsize=(12, 5))\n",
    "\n",
    "als_start = gf_als[\"start_datetime\"].iloc[0]\n",
    "als_end = gf_als[\"end_datetime\"].iloc[0]\n",
    "ax.axvspan(als_start, als_end, color=\"gray\", alpha=0.3, label=\"ALS Window\")\n",
    "\n",
    "ax.scatter(\n",
    "    gf_maxar[\"datetime\"],\n",
    "    [\"Maxar\"] * len(gf_maxar),\n",
    "    marker=\"D\",\n",
    "    s=80,\n",
    "    label=\"Maxar Stereo\",\n",
    ")\n",
    "ax.scatter(\n",
    "    gf_is2[\"datetime\"], [\"ICESat-2\"] * len(gf_is2), marker=\"D\", s=80, label=\"ICESat-2\"\n",
    ")\n",
    "ax.scatter(gf_gedi[\"datetime\"], [\"GEDI\"] * len(gf_gedi), marker=\"D\", s=80, label=\"GEDI\")\n",
    "\n",
    "ax.set_title(\"Data Availability for Site: CA_SanFrancisco_1_B23\")\n",
    "ax.set_xlabel(\"Date\")\n",
    "ax.set_ylabel(\"Data Collection\")\n",
    "ax.legend(loc=\"best\")\n",
    "ax.grid(axis=\"x\", linestyle=\":\", alpha=0.4)\n",
    "fig.autofmt_xdate()\n",
    "plt.tight_layout();"
   ]
  },
  {
   "cell_type": "markdown",
   "id": "14",
   "metadata": {},
   "source": [
    "See the spatial extent"
   ]
  },
  {
   "cell_type": "code",
   "execution_count": null,
   "id": "15",
   "metadata": {},
   "outputs": [],
   "source": [
    "style_args = {\"fillOpacity\": 0.15, \"weight\": 2.5}\n",
    "\n",
    "m = gf_als.explore(\n",
    "    name=\"ALS\", color=\"gray\", style_kwds=style_args, tiles=\"Esri.WorldImagery\"\n",
    ")\n",
    "m = gf_maxar.explore(m=m, name=\"Maxar\", color=\"blue\", style_kwds=style_args)\n",
    "m = gf_is2.explore(m=m, name=\"ICESat-2\", color=\"orange\", style_kwds=style_args)\n",
    "m = gf_gedi.explore(m=m, name=\"GEDI\", color=\"green\", style_kwds=style_args)\n",
    "m = gf_overlap.explore(m=m, name=\"Overlap Area\", color=\"black\", style_kwds=style_args)\n",
    "m"
   ]
  },
  {
   "cell_type": "markdown",
   "id": "16",
   "metadata": {},
   "source": [
    "## Downloading\n",
    "\n",
    "You can also download the PCD files for all sites using the `coincident.pcd_fixtures` module. `coincident.pcd_fixtures.download_pcd_files()` supports this by streaming calls to the respective STAC catalogs and ALS endpoints.\n",
    "\n",
    "Source code in `coincident/scripts` as seen below supports the downloading of the latest released GitHub assets of these PCD dataset files.\n",
    "```bash\n",
    "pixi run python src/coincident/scripts/generate_pcd.py\n",
    "```\n",
    "\n",
    "*What's the difference between the two?*\n",
    "\n",
    "`coincident.pcd_fixtures.download_pcd_files()` grabs the metadata for all PCD sites as provided by the respective STAC catalogs and API endpoints. `src/coincident/scripts/generate_pcd.py` pulls from the latest GitHub assets, which includes more complex overlap area geometries, LULC and elevation statistics over these geometries, and extended ALS metadata. The difference exists at the PCD sites from the latest GitHub assets have this extra metadata manually determined uniquely for each site (via reading individual lidar metadata reports, manually defining overlap geometries based on filtered data, using code that exists outside of `coincident`, etc.).\n",
    "\n",
    "Because of this, running `coincident.pcd_fixtures.download_pcd_files()` will take minutes and running `src/coincident/scripts/generate_pcd.py` will take seconds."
   ]
  },
  {
   "cell_type": "code",
   "execution_count": null,
   "id": "17",
   "metadata": {},
   "outputs": [],
   "source": [
    "pcd_fixtures.download_pcd_files?"
   ]
  },
  {
   "cell_type": "code",
   "execution_count": null,
   "id": "18",
   "metadata": {},
   "outputs": [],
   "source": [
    "# pcd_fixtures.download_pcd_files(\"/tmp\")"
   ]
  },
  {
   "cell_type": "markdown",
   "id": "19",
   "metadata": {},
   "source": [
    "```{note}\n",
    "This takes ~4 minutes to run and the total output size for all files is 31mb (parquet files sum to ~8.5mb and geojsons sum to ~22mb)\n",
    "\n",
    "```"
   ]
  }
 ],
 "metadata": {
  "language_info": {
   "codemirror_mode": {
    "name": "ipython",
    "version": 3
   },
   "file_extension": ".py",
   "mimetype": "text/x-python",
   "name": "python",
   "nbconvert_exporter": "python",
   "pygments_lexer": "ipython3"
  }
 },
 "nbformat": 4,
 "nbformat_minor": 5
}
