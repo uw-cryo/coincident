{
 "cells": [
  {
   "cell_type": "markdown",
   "metadata": {},
   "source": [
    "# Comparing Elevation Values\n",
    "\n",
    "Once you have an area of interest with multiple overlapping DEMs and/or laser altimetry measurements, you can quickly compare elevation values. `coincident` supports a main plotting panel for elevation comparisons, as well as dynamic boxplots and histograms for elevation differences over various terrain characteristics and land cover types. See the below functions:\n",
    "* coincident.plot.compare_dems\n",
    "* coincident.plot.boxplot_slope\n",
    "* coincident.plot.boxplot_elevation\n",
    "* coincident.plot.boxplot_aspect"
   ]
  },
  {
   "cell_type": "code",
   "execution_count": null,
   "metadata": {},
   "outputs": [],
   "source": [
    "import coincident\n",
    "import geopandas as gpd\n",
    "from shapely.geometry import box\n",
    "import rioxarray as rxr\n",
    "import xarray as xr\n",
    "import rasterio\n",
    "import xdem\n",
    "import numpy as np\n",
    "\n",
    "%matplotlib inline"
   ]
  },
  {
   "cell_type": "markdown",
   "metadata": {},
   "source": [
    "Let's go back to our CO site"
   ]
  },
  {
   "cell_type": "code",
   "execution_count": null,
   "metadata": {},
   "outputs": [],
   "source": [
    "workunit = \"CO_WestCentral_2019\"\n",
    "df_wesm = coincident.search.wesm.read_wesm_csv()\n",
    "gf_lidar = coincident.search.wesm.load_by_fid(\n",
    "    df_wesm[df_wesm.workunit == workunit].index\n",
    ")\n",
    "\n",
    "gf_lidar"
   ]
  },
  {
   "cell_type": "markdown",
   "metadata": {},
   "source": [
    "Now, let's grab the vendor DEM products for two arbitrary tiles of this flight to look at elevation differences between the aerial LIDAR derved DEM, Copernicus GLO-30 DEM, ICESat-2 elevations, and GEDI elevations."
   ]
  },
  {
   "cell_type": "code",
   "execution_count": null,
   "metadata": {},
   "outputs": [],
   "source": [
    "# vendor DEM products\n",
    "url_tile_1 = \"https://prd-tnm.s3.amazonaws.com/StagedProducts/Elevation/OPR/Projects/CO_WestCentral_2019_A19/CO_WestCentral_2019/TIFF/USGS_OPR_CO_WestCentral_2019_A19_be_w1032n1780.tif\"\n",
    "url_tile_2 = \"https://prd-tnm.s3.amazonaws.com/StagedProducts/Elevation/OPR/Projects/CO_WestCentral_2019_A19/CO_WestCentral_2019/TIFF/USGS_OPR_CO_WestCentral_2019_A19_be_w1032n1779.tif\"\n",
    "\n",
    "ds_tile_1 = rxr.open_rasterio(url_tile_1, overview_level=2).to_dataset(name=\"elevation\")\n",
    "ds_tile_2 = rxr.open_rasterio(url_tile_2, overview_level=2).to_dataset(name=\"elevation\")\n",
    "\n",
    "ds_lidar = xr.merge([ds_tile_1, ds_tile_2])"
   ]
  },
  {
   "cell_type": "code",
   "execution_count": null,
   "metadata": {},
   "outputs": [],
   "source": [
    "# search geodataframe to grab the COP30 DEM\n",
    "bbox_tile = ds_lidar.rio.bounds()\n",
    "poly_tile = box(*bbox_tile)\n",
    "gf_tile = gpd.GeoDataFrame(geometry=[poly_tile], crs=ds_lidar.rio.crs).to_crs(\n",
    "    \"EPSG:4326\"\n",
    ")"
   ]
  },
  {
   "cell_type": "code",
   "execution_count": null,
   "metadata": {},
   "outputs": [],
   "source": [
    "# load in COP30 data\n",
    "gf_cop30 = coincident.search.search(\n",
    "    dataset=\"cop30\",\n",
    "    intersects=gf_tile.geometry,\n",
    ")\n",
    "ds_cop30 = coincident.io.xarray.to_dataset(\n",
    "    gf_cop30,\n",
    "    aoi=gf_tile.geometry,\n",
    "    mask=True,\n",
    ").compute()"
   ]
  },
  {
   "cell_type": "code",
   "execution_count": null,
   "metadata": {},
   "outputs": [],
   "source": [
    "ds_cop30 = ds_cop30.rename(data=\"elevation\")\n",
    "ds_cop30 = ds_cop30.rio.reproject(ds_lidar.rio.crs)\n",
    "ds_cop30_r = ds_cop30.rio.reproject_match(\n",
    "    ds_lidar, resampling=rasterio.enums.Resampling.bilinear\n",
    ")"
   ]
  },
  {
   "cell_type": "code",
   "execution_count": null,
   "metadata": {},
   "outputs": [],
   "source": [
    "# Get GEDI\n",
    "gf_gedi = coincident.search.search(\n",
    "    dataset=\"gedi\",\n",
    "    intersects=gf_tile,\n",
    ")\n",
    "data_gedi = coincident.io.sliderule.subset_gedi02a(\n",
    "    gf_gedi, gf_tile, include_worldcover=True\n",
    ")\n",
    "# Get ICESAT-2\n",
    "gf_is2 = coincident.search.search(\n",
    "    dataset=\"icesat-2\",\n",
    "    intersects=gf_tile,\n",
    ")\n",
    "data_is2 = coincident.io.sliderule.subset_atl06(\n",
    "    gf_is2, gf_tile, include_worldcover=True\n",
    ")\n",
    "data_is2_p = data_is2.to_crs(ds_lidar.rio.crs)\n",
    "data_gedi_p = data_gedi.to_crs(ds_lidar.rio.crs)"
   ]
  },
  {
   "cell_type": "markdown",
   "metadata": {},
   "source": [
    "### Main Elevation Comparison Panel\n",
    "\n",
    "'coincident' supports a main `compare_dems` function that allows you to compare multiple DEMs and altimetry points in a single panel. This function dynamically adjusts based on the number of datasets provided.\n",
    "\n",
    "```{note}\n",
    "`compare_dems` assumes that all DEMs are in the same coordinate reference system (CRS) and aligned. It also assumes that each DEM has an 'elevation' variable. If hillshade=True, it assumes the first DEM passed has  'hillshade' variable, where the 'hillshade' variable can be calculated with `coincident.plot.create_hillshade` as seen below. A minimum of two DEMs must be provided and a maximum of 5 total datasets (datasets being DEMs and GeoDataFrames of altimetry points) can be provided.\n",
    "```"
   ]
  },
  {
   "cell_type": "code",
   "execution_count": null,
   "metadata": {},
   "outputs": [],
   "source": [
    "# and let's create hillshade variables\n",
    "ds_lidar[\"hillshade\"] = coincident.plot.hillshade(ds_lidar.elevation)\n",
    "ds_cop30_r[\"hillshade\"] = coincident.plot.hillshade(ds_cop30_r.elevation)"
   ]
  },
  {
   "cell_type": "code",
   "execution_count": null,
   "metadata": {},
   "outputs": [],
   "source": [
    "# list of DEMs to compare, where the first DEM in the list is the 'source' DEM\n",
    "dem_list = [ds_lidar, ds_cop30_r]\n",
    "# dictionary of GeoDataFrames with altimetry points to compare\n",
    "# where the key is the name/plot title of the dataset and the value is a tuple of the respective\n",
    "# GeoDataFrame and the column name of the elevation values of interest\n",
    "dicts_gds = {\"ICESat-2\": (data_is2_p, \"h_li\"), \"GEDI\": (data_gedi_p, \"elevation_hr\")}\n",
    "\n",
    "axd = coincident.plot.compare_dems(\n",
    "    dem_list,\n",
    "    dicts_gds,\n",
    "    diff_clim=(-10, 10),  # difference colormap limits\n",
    ")"
   ]
  },
  {
   "cell_type": "markdown",
   "metadata": {},
   "source": [
    "### Dynamic Elevation Difference Boxplots Based on Terrain Variables (slope, elevation, aspect)\n",
    "\n",
    "`coincident` allows users to dynamically plot elevation differences based on grouped data such as slope values. In these functions (that are wrappers for the generalized coincident.plot.boxplot_terrain_diff function), the user provides a reference DEM and one other DEM or GeoDataFrame with elevation values to compare to. These function assumes that the reference DEM has the respective terrain variable (slope, aspect, etc.) of interest.\n",
    "\n",
    "```{note}\n",
    "Boxplots will only be generated with groups of value counts greater than 30. Dynamic ylims will be fit to the IQRs of the boxplots.\n",
    "```"
   ]
  },
  {
   "cell_type": "code",
   "execution_count": null,
   "metadata": {},
   "outputs": [],
   "source": [
    "slope = xdem.terrain.slope(\n",
    "    ds_lidar.elevation.values, resolution=ds_lidar.rio.resolution()[0]\n",
    ")\n",
    "ds_lidar[\"slope\"] = ((\"y\", \"x\"), np.squeeze(slope))"
   ]
  },
  {
   "cell_type": "code",
   "execution_count": null,
   "metadata": {},
   "outputs": [],
   "source": [
    "ax_boxplot_dems = coincident.plot.boxplot_slope([ds_lidar, ds_cop30_r])"
   ]
  },
  {
   "cell_type": "code",
   "execution_count": null,
   "metadata": {},
   "outputs": [],
   "source": [
    "# you can also do the same with a grodataframe point geometry comparison :o\n",
    "ax_boxplot_gdf = coincident.plot.boxplot_slope(\n",
    "    [ds_lidar, data_gedi_p],\n",
    "    elev_col=\"elevation_hr\",\n",
    ")"
   ]
  },
  {
   "cell_type": "code",
   "execution_count": null,
   "metadata": {},
   "outputs": [],
   "source": [
    "# we also support elevation differences based on elevation bins\n",
    "# grouped on the reference DEM's elevation values\n",
    "ax_elev = coincident.plot.boxplot_elevation(\n",
    "    [ds_lidar, ds_cop30_r], elevation_bins=np.arange(1700, 2000, 20)\n",
    ")"
   ]
  },
  {
   "cell_type": "code",
   "execution_count": null,
   "metadata": {},
   "outputs": [],
   "source": [
    "# lastly for the boxplots, let's look at aspect\n",
    "aspect = xdem.terrain.aspect(ds_lidar.elevation.values)\n",
    "ds_lidar[\"aspect\"] = ((\"y\", \"x\"), np.squeeze(aspect))"
   ]
  },
  {
   "cell_type": "code",
   "execution_count": null,
   "metadata": {},
   "outputs": [],
   "source": [
    "ax_aspect = coincident.plot.boxplot_aspect([ds_lidar, ds_cop30_r])"
   ]
  },
  {
   "cell_type": "markdown",
   "metadata": {},
   "source": [
    "### Histograms of Elevation Differences over Land Cover\n",
    "\n",
    "Plot elevation differences between DEMs or point data, grouped by ESA World Cover 2020 land cover class\n",
    "\n",
    "```{note}\n",
    "Histograms will only be generated with groups of value counts greater than a user-defined threshold (default is 30).\n",
    "```"
   ]
  },
  {
   "cell_type": "code",
   "execution_count": null,
   "metadata": {},
   "outputs": [],
   "source": [
    "ax_lulc_cop30 = coincident.plot.hist_esa([ds_lidar, ds_cop30_r])"
   ]
  },
  {
   "cell_type": "code",
   "execution_count": null,
   "metadata": {},
   "outputs": [],
   "source": [
    "ax_lulc_is2 = coincident.plot.hist_esa([ds_lidar, data_is2_p], elev_col=\"h_li\")"
   ]
  }
 ],
 "metadata": {
  "kernelspec": {
   "display_name": "dev",
   "language": "python",
   "name": "python3"
  },
  "language_info": {
   "codemirror_mode": {
    "name": "ipython",
    "version": 3
   },
   "file_extension": ".py",
   "mimetype": "text/x-python",
   "name": "python",
   "nbconvert_exporter": "python",
   "pygments_lexer": "ipython3",
   "version": "3.12.9"
  }
 },
 "nbformat": 4,
 "nbformat_minor": 2
}
