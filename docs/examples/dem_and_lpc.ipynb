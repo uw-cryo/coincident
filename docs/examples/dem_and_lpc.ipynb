{
 "cells": [
  {
   "cell_type": "markdown",
   "metadata": {},
   "source": [
    "# Reading and Downloading DEM and LPC Products\n",
    "\n",
    "The `coincident.io.xarray` and `coincident.io.download` modules support the option to load DEMs into memory via odc-stac or download DEMs into local directories. \n",
    "\n",
    "There is also support for Lidar Point Cloud (LPC) spatial filtering for aerial lidar catalogs, where the user can return a GeoDataFrame with the respective .laz tile filename, download url, and geometry (epsg 4326) for each tile intersecting an input aoi. These laz files can then be downloaded locally with `coincident.io.download.download_files()`\n",
    "\n",
    "There is specific support for USGS 3DEP EPT readers where the user can return a PDAL pipeline configured with the EPT URL, the AOI's bounds, and polygon WKT, all in the EPT's spatial reference system.\n",
    "\n",
    "```{note}\n",
    "Coincident *does not support the processing* of lidar point cloud products. Please see the [lidar_tools](https://github.com/uw-cryo/lidar_tools) repository for information on processing the returned GeoDataFrame with lidar point cloud products.\n",
    "```"
   ]
  },
  {
   "cell_type": "code",
   "execution_count": null,
   "metadata": {},
   "outputs": [],
   "source": [
    "import coincident\n",
    "import geopandas as gpd\n",
    "from shapely.geometry import box"
   ]
  },
  {
   "cell_type": "markdown",
   "metadata": {},
   "source": [
    "## 3DEP and NEON overlapping Flights\n",
    "\n",
    "```{note}\n",
    "For all of these functions, you will need identification metadata from the `coincident.search.search` functions for each respective catalog\n",
    "```"
   ]
  },
  {
   "cell_type": "markdown",
   "metadata": {},
   "source": [
    "### Search"
   ]
  },
  {
   "cell_type": "code",
   "execution_count": null,
   "metadata": {},
   "outputs": [],
   "source": [
    "workunit = \"CO_CentralEasternPlains_1_2020\"\n",
    "df_wesm = coincident.search.wesm.read_wesm_csv()\n",
    "gf_usgs = coincident.search.wesm.load_by_fid(\n",
    "    df_wesm[df_wesm.workunit == workunit].index\n",
    ")\n",
    "\n",
    "gf_usgs"
   ]
  },
  {
   "cell_type": "code",
   "execution_count": null,
   "metadata": {},
   "outputs": [],
   "source": [
    "# We will examine the 'sourcedem' 1m\n",
    "# NOTE: it's important to note the *vertical* CRS of the data\n",
    "gf_usgs.iloc[0]"
   ]
  },
  {
   "cell_type": "markdown",
   "metadata": {},
   "source": [
    "Now, we'll explore an overlapping NEON flight"
   ]
  },
  {
   "cell_type": "code",
   "execution_count": null,
   "metadata": {},
   "outputs": [],
   "source": [
    "gf_neon = coincident.search.search(\n",
    "    dataset=\"neon\", intersects=gf_usgs, datetime=[\"2020\"]\n",
    ")"
   ]
  },
  {
   "cell_type": "code",
   "execution_count": null,
   "metadata": {},
   "outputs": [],
   "source": [
    "gf_neon.head()"
   ]
  },
  {
   "cell_type": "code",
   "execution_count": null,
   "metadata": {},
   "outputs": [],
   "source": [
    "m = gf_usgs.explore(color=\"black\")\n",
    "gf_neon.explore(m=m, column=\"id\", popups=True)"
   ]
  },
  {
   "cell_type": "markdown",
   "metadata": {},
   "source": [
    "### Subset data"
   ]
  },
  {
   "cell_type": "markdown",
   "metadata": {},
   "source": [
    "We will evaluate small subset of this overlap for deomstrative purposes.\n",
    "\n",
    "Let's subset based on some contextual LULC data"
   ]
  },
  {
   "cell_type": "code",
   "execution_count": null,
   "metadata": {},
   "outputs": [],
   "source": [
    "gf_wc = coincident.search.search(\n",
    "    dataset=\"worldcover\",\n",
    "    intersects=gf_neon,\n",
    "    datetime=[\"2020\"],\n",
    ")"
   ]
  },
  {
   "cell_type": "code",
   "execution_count": null,
   "metadata": {},
   "outputs": [],
   "source": [
    "dswc = coincident.io.xarray.to_dataset(\n",
    "    gf_wc,\n",
    "    bands=[\"map\"],\n",
    "    aoi=gf_neon,\n",
    "    mask=True,\n",
    "    resolution=0.00027,  # ~30m\n",
    ")\n",
    "dswc = dswc.rename(map=\"landcover\")\n",
    "dswc = dswc.compute()"
   ]
  },
  {
   "cell_type": "code",
   "execution_count": null,
   "metadata": {},
   "outputs": [],
   "source": [
    "# arbitrary bbox that will be our subset area (all cropland)\n",
    "bbox_geometry = box(-102.505, 39.675, -102.49, 39.685)\n",
    "aoi = gpd.GeoDataFrame(geometry=[bbox_geometry], crs=\"EPSG:4326\")"
   ]
  },
  {
   "cell_type": "code",
   "execution_count": null,
   "metadata": {},
   "outputs": [],
   "source": [
    "ax = coincident.plot.plot_esa_worldcover(dswc)\n",
    "aoi.plot(ax=ax, facecolor=\"none\", edgecolor=\"black\", linestyle=\"--\", linewidth=2)\n",
    "from matplotlib.lines import Line2D\n",
    "\n",
    "custom_line = Line2D([0], [0], color=\"black\", linestyle=\"--\", lw=2)\n",
    "ax.legend([custom_line], [\"Area of Interest\"], loc=\"upper right\", fontsize=10)\n",
    "ax.set_title(\"ESA WorldCover\");"
   ]
  },
  {
   "cell_type": "markdown",
   "metadata": {},
   "source": [
    "Actually read in the DEMs"
   ]
  },
  {
   "cell_type": "code",
   "execution_count": null,
   "metadata": {},
   "outputs": [],
   "source": [
    "datetime_str = gf_neon.end_datetime.item()\n",
    "site_id = gf_neon.id.item()\n",
    "datetime_str, site_id"
   ]
  },
  {
   "cell_type": "code",
   "execution_count": null,
   "metadata": {},
   "outputs": [],
   "source": [
    "%%time\n",
    "da_neon_dem = coincident.io.xarray.load_neon_dem(\n",
    "    aoi, datetime_str=datetime_str, site_id=site_id, product=\"dsm\"\n",
    ")"
   ]
  },
  {
   "cell_type": "code",
   "execution_count": null,
   "metadata": {},
   "outputs": [],
   "source": [
    "da_neon_dem"
   ]
  },
  {
   "cell_type": "code",
   "execution_count": null,
   "metadata": {},
   "outputs": [],
   "source": [
    "usgs_project = gf_usgs[\"project\"].item()\n",
    "usgs_project"
   ]
  },
  {
   "cell_type": "code",
   "execution_count": null,
   "metadata": {},
   "outputs": [],
   "source": [
    "%%time\n",
    "da_usgs_dem = coincident.io.xarray.load_usgs_dem(aoi, usgs_project)"
   ]
  },
  {
   "cell_type": "code",
   "execution_count": null,
   "metadata": {},
   "outputs": [],
   "source": [
    "da_usgs_dem"
   ]
  },
  {
   "cell_type": "code",
   "execution_count": null,
   "metadata": {},
   "outputs": [],
   "source": [
    "da_usgs_dem.coarsen(x=20, y=20, boundary=\"trim\").mean().plot.imshow();"
   ]
  },
  {
   "cell_type": "markdown",
   "metadata": {},
   "source": [
    "### Download\n",
    "\n",
    "```{note}\n",
    "`coincident.io.download.download_neon_dem` needs the NEON site's start_datetime OR end_datetime to work\n",
    "```"
   ]
  },
  {
   "cell_type": "code",
   "execution_count": null,
   "metadata": {},
   "outputs": [],
   "source": [
    "gf_neon"
   ]
  },
  {
   "cell_type": "code",
   "execution_count": null,
   "metadata": {},
   "outputs": [],
   "source": [
    "local_output_dir = \"/tmp\""
   ]
  },
  {
   "cell_type": "code",
   "execution_count": null,
   "metadata": {},
   "outputs": [],
   "source": [
    "coincident.io.download.download_neon_dem(\n",
    "    aoi=aoi,\n",
    "    datetime_str=gf_neon.start_datetime.item(),\n",
    "    site_id=gf_neon.id.item(),\n",
    "    product=\"dsm\",\n",
    "    output_dir=local_output_dir,\n",
    ")"
   ]
  },
  {
   "cell_type": "code",
   "execution_count": null,
   "metadata": {},
   "outputs": [],
   "source": [
    "# USGS_1M_13_x71y440_CO_CentralEasternPlains_2020_D20.tif:  236MB\n",
    "coincident.io.download.download_usgs_dem(\n",
    "    aoi=aoi,\n",
    "    project=usgs_project,\n",
    "    output_dir=local_output_dir,\n",
    "    save_parquet=True,  # save a STAC-like geoparquet of the tiles you download\n",
    ")"
   ]
  },
  {
   "cell_type": "markdown",
   "metadata": {},
   "source": [
    "Finally, you can grab the LPC tile metadata. For USGS 3DEP data, you can also return a PDAL pipeline based on the available EPT data. This PDAL pipeline will be returned as a JSON file where the user can add their own custom parameters (additional filters, writers, etc.) to this pipeline dictionary before executing it with PDAL.\n",
    "\n",
    "```{note}\n",
    "`coincident.io.download.fetch_lpc_tiles` needs the NEON site's end_datetime OR start_datetime to work if you are in fact accessing NEON data\n",
    "```"
   ]
  },
  {
   "cell_type": "code",
   "execution_count": null,
   "metadata": {},
   "outputs": [],
   "source": [
    "%%time\n",
    "gf_neon_lpc_tiles = coincident.io.download.fetch_lpc_tiles(\n",
    "    aoi=aoi,\n",
    "    dataset_id=gf_neon.id.item(),\n",
    "    provider=\"NEON\",\n",
    "    datetime_str=gf_neon.end_datetime.item(),\n",
    ")"
   ]
  },
  {
   "cell_type": "code",
   "execution_count": null,
   "metadata": {},
   "outputs": [],
   "source": [
    "gf_neon_lpc_tiles.head()"
   ]
  },
  {
   "cell_type": "code",
   "execution_count": null,
   "metadata": {},
   "outputs": [],
   "source": [
    "%%time\n",
    "gf_usgs_lpc_tiles = coincident.io.download.fetch_lpc_tiles(\n",
    "    aoi=aoi, dataset_id=usgs_project, provider=\"USGS\"\n",
    ")"
   ]
  },
  {
   "cell_type": "code",
   "execution_count": null,
   "metadata": {},
   "outputs": [],
   "source": [
    "gf_usgs_lpc_tiles.head()"
   ]
  },
  {
   "cell_type": "code",
   "execution_count": null,
   "metadata": {},
   "outputs": [],
   "source": [
    "m = gf_usgs_lpc_tiles.explore(color=\"black\")\n",
    "gf_neon_lpc_tiles.explore(m=m)"
   ]
  },
  {
   "cell_type": "markdown",
   "metadata": {},
   "source": [
    "Now, we can download the laz files"
   ]
  },
  {
   "cell_type": "code",
   "execution_count": null,
   "metadata": {},
   "outputs": [],
   "source": [
    "coincident.io.download.download_files(\n",
    "    gf_neon_lpc_tiles[\"url\"], output_dir=local_output_dir\n",
    ")"
   ]
  },
  {
   "cell_type": "code",
   "execution_count": null,
   "metadata": {},
   "outputs": [],
   "source": [
    "pdal_pipeline = coincident.io.download.build_usgs_ept_pipeline(\n",
    "    aoi, workunit=gf_usgs.workunit.item(), output_dir=local_output_dir\n",
    ")"
   ]
  },
  {
   "cell_type": "code",
   "execution_count": null,
   "metadata": {},
   "outputs": [],
   "source": [
    "pdal_pipeline"
   ]
  },
  {
   "cell_type": "markdown",
   "metadata": {},
   "source": [
    "## NCALM\n",
    "\n",
    "### Search"
   ]
  },
  {
   "cell_type": "code",
   "execution_count": null,
   "metadata": {},
   "outputs": [],
   "source": [
    "aoi = gpd.read_file(\n",
    "    \"https://raw.githubusercontent.com/unitedstates/districts/refs/heads/gh-pages/states/WA/shape.geojson\"\n",
    ")\n",
    "aoi.plot();"
   ]
  },
  {
   "cell_type": "code",
   "execution_count": null,
   "metadata": {},
   "outputs": [],
   "source": [
    "gf_ncalm = coincident.search.search(\n",
    "    dataset=\"ncalm\", intersects=aoi, datetime=[\"2018-09-19\"]\n",
    ")"
   ]
  },
  {
   "cell_type": "code",
   "execution_count": null,
   "metadata": {},
   "outputs": [],
   "source": [
    "gf_ncalm"
   ]
  },
  {
   "cell_type": "markdown",
   "metadata": {},
   "source": [
    "Now, let's subset to a small AOI for convenience sake"
   ]
  },
  {
   "cell_type": "code",
   "execution_count": null,
   "metadata": {},
   "outputs": [],
   "source": [
    "buffer_size = 0.01\n",
    "centroid = gf_ncalm.centroid\n",
    "mini_aoi = gpd.GeoDataFrame(\n",
    "    geometry=[\n",
    "        box(\n",
    "            centroid.x - buffer_size,\n",
    "            centroid.y - buffer_size,\n",
    "            centroid.x + buffer_size,\n",
    "            centroid.y + buffer_size,\n",
    "        )\n",
    "    ],\n",
    "    crs=\"EPSG:4326\",\n",
    ")"
   ]
  },
  {
   "cell_type": "code",
   "execution_count": null,
   "metadata": {},
   "outputs": [],
   "source": [
    "m = gf_ncalm.explore()\n",
    "mini_aoi.explore(m=m, color=\"red\")"
   ]
  },
  {
   "cell_type": "markdown",
   "metadata": {},
   "source": [
    "```{note}\n",
    "The NCALM DEMs are not tiled, so reading in the data and downloading takes a longer time\n",
    "```"
   ]
  },
  {
   "cell_type": "markdown",
   "metadata": {},
   "source": [
    "### Subset data"
   ]
  },
  {
   "cell_type": "code",
   "execution_count": null,
   "metadata": {},
   "outputs": [],
   "source": [
    "%%time\n",
    "da_ncalm_dtm = coincident.io.xarray.load_ncalm_dem(\n",
    "    aoi=mini_aoi, product=\"dtm\", dataset_id=gf_ncalm[\"name\"].item()\n",
    ")"
   ]
  },
  {
   "cell_type": "code",
   "execution_count": null,
   "metadata": {},
   "outputs": [],
   "source": [
    "da_ncalm_dtm"
   ]
  },
  {
   "cell_type": "code",
   "execution_count": null,
   "metadata": {},
   "outputs": [],
   "source": [
    "da_ncalm_dtm.coarsen(x=20, y=20, boundary=\"trim\").mean().plot.imshow();"
   ]
  },
  {
   "cell_type": "markdown",
   "metadata": {},
   "source": [
    "### Download"
   ]
  },
  {
   "cell_type": "markdown",
   "metadata": {},
   "source": [
    "```{note}\n",
    "You will not see a download progress bar for downloading NCALM DEMs as opposed to USGS and NEON provider DEMs\n",
    "```"
   ]
  },
  {
   "cell_type": "code",
   "execution_count": null,
   "metadata": {},
   "outputs": [],
   "source": [
    "%%time\n",
    "coincident.io.download.download_ncalm_dem(\n",
    "    aoi=mini_aoi,\n",
    "    dataset_id=gf_ncalm[\"name\"].item(),\n",
    "    product=\"dtm\",\n",
    "    output_dir=local_output_dir,\n",
    ")"
   ]
  },
  {
   "cell_type": "code",
   "execution_count": null,
   "metadata": {},
   "outputs": [],
   "source": [
    "%%time\n",
    "gf_ncalm_lpc_tiles = coincident.io.download.fetch_lpc_tiles(\n",
    "    aoi=mini_aoi, dataset_id=gf_ncalm.name.item(), provider=\"NCALM\"\n",
    ")"
   ]
  },
  {
   "cell_type": "code",
   "execution_count": null,
   "metadata": {},
   "outputs": [],
   "source": [
    "gf_ncalm_lpc_tiles.head()"
   ]
  },
  {
   "cell_type": "code",
   "execution_count": null,
   "metadata": {},
   "outputs": [],
   "source": [
    "m = gf_ncalm.explore()\n",
    "gf_ncalm_lpc_tiles.explore(m=m, color=\"red\")\n",
    "mini_aoi.explore(m=m, color=\"black\")"
   ]
  },
  {
   "cell_type": "markdown",
   "metadata": {},
   "source": [
    "## NOAA\n",
    "\n",
    "### Search"
   ]
  },
  {
   "cell_type": "code",
   "execution_count": null,
   "metadata": {},
   "outputs": [],
   "source": [
    "aoi = gpd.read_file(\n",
    "    \"https://raw.githubusercontent.com/unitedstates/districts/refs/heads/gh-pages/states/FL/shape.geojson\"\n",
    ")\n",
    "gf_noaa = coincident.search.search(\n",
    "    dataset=\"noaa\", intersects=aoi, datetime=[\"2022-10-27\"]\n",
    ")"
   ]
  },
  {
   "cell_type": "code",
   "execution_count": null,
   "metadata": {},
   "outputs": [],
   "source": [
    "buffer_size = 0.02\n",
    "centroid = gf_noaa.centroid\n",
    "mini_aoi = gpd.GeoDataFrame(\n",
    "    geometry=[\n",
    "        box(\n",
    "            centroid.x - buffer_size,\n",
    "            centroid.y - buffer_size,\n",
    "            centroid.x + buffer_size,\n",
    "            centroid.y + buffer_size,\n",
    "        )\n",
    "    ],\n",
    "    crs=\"EPSG:4326\",\n",
    ")"
   ]
  },
  {
   "cell_type": "code",
   "execution_count": null,
   "metadata": {},
   "outputs": [],
   "source": [
    "m = gf_noaa.explore()\n",
    "mini_aoi.explore(m=m, color=\"red\")"
   ]
  },
  {
   "cell_type": "markdown",
   "metadata": {},
   "source": [
    "the name and id being identical is expected"
   ]
  },
  {
   "cell_type": "code",
   "execution_count": null,
   "metadata": {},
   "outputs": [],
   "source": [
    "gf_noaa"
   ]
  },
  {
   "cell_type": "markdown",
   "metadata": {},
   "source": [
    "```{note}\n",
    "Our coincident.search.search(dataset=\"noaa\") returns the dataset ids \"Lidar Datasets at NOAA Digital Coast\" whereas coincident.io.xarray.load_noaa_dem() requires the ids from the \"Imagery and Elevation Raster Datasets at NOAA Digital Coast\" dataset. The corresponding elevation raster dataset id is the same as the lidar dataset id + 1. \n",
    "e.g. \"Great Bay NERR UAS Lidar\" has id 10175 for lidar data and id 10176 for dem data\n",
    "```"
   ]
  },
  {
   "cell_type": "code",
   "execution_count": null,
   "metadata": {},
   "outputs": [],
   "source": [
    "noaa_dem_id = int(gf_noaa.id.item()) + 1\n",
    "print(f\"NOAA LiDAR id: {gf_noaa.id.item()}  NOAA DEM id: {noaa_dem_id}\")"
   ]
  },
  {
   "cell_type": "markdown",
   "metadata": {},
   "source": [
    "```{warning}\n",
    "The larger the NOAA flight, the longer the below function takes regardless of your input AOI\n",
    "```"
   ]
  },
  {
   "cell_type": "markdown",
   "metadata": {},
   "source": [
    "### Subset"
   ]
  },
  {
   "cell_type": "code",
   "execution_count": null,
   "metadata": {},
   "outputs": [],
   "source": [
    "%%time\n",
    "da_noaa_dem = coincident.io.xarray.load_noaa_dem(mini_aoi, noaa_dem_id)"
   ]
  },
  {
   "cell_type": "code",
   "execution_count": null,
   "metadata": {},
   "outputs": [],
   "source": [
    "da_noaa_dem"
   ]
  },
  {
   "cell_type": "code",
   "execution_count": null,
   "metadata": {},
   "outputs": [],
   "source": [
    "da_noaa_dem.coarsen(x=50, y=50, boundary=\"trim\").mean().plot.imshow();"
   ]
  },
  {
   "cell_type": "code",
   "execution_count": null,
   "metadata": {},
   "outputs": [],
   "source": [
    "buffer_size = 0.008\n",
    "centroid = gf_noaa.centroid\n",
    "mini_aoi = gpd.GeoDataFrame(\n",
    "    geometry=[\n",
    "        box(\n",
    "            centroid.x - buffer_size,\n",
    "            centroid.y - buffer_size,\n",
    "            centroid.x + buffer_size,\n",
    "            centroid.y + buffer_size,\n",
    "        )\n",
    "    ],\n",
    "    crs=\"EPSG:4326\",\n",
    ")\n",
    "m = gf_noaa.explore()\n",
    "mini_aoi.explore(m=m, color=\"red\")"
   ]
  },
  {
   "cell_type": "markdown",
   "metadata": {},
   "source": [
    "### Download"
   ]
  },
  {
   "cell_type": "markdown",
   "metadata": {},
   "source": [
    "```{note}\n",
    "You will not see a download progress bar for downloading NOAA DEMs as opposed to USGS and NEON provider DEMs\n",
    "```"
   ]
  },
  {
   "cell_type": "code",
   "execution_count": null,
   "metadata": {},
   "outputs": [],
   "source": [
    "%%time\n",
    "coincident.io.download.download_noaa_dem(\n",
    "    aoi=mini_aoi, dataset_id=noaa_dem_id, output_dir=local_output_dir\n",
    ")"
   ]
  },
  {
   "cell_type": "code",
   "execution_count": null,
   "metadata": {},
   "outputs": [],
   "source": [
    "list(mini_aoi.bounds.values)"
   ]
  },
  {
   "cell_type": "code",
   "execution_count": null,
   "metadata": {},
   "outputs": [],
   "source": [
    "gf_noaa.id.item()"
   ]
  },
  {
   "cell_type": "code",
   "execution_count": null,
   "metadata": {},
   "outputs": [],
   "source": [
    "%%time\n",
    "gf_noaa_lpc_tiles = coincident.io.download.fetch_lpc_tiles(\n",
    "    aoi=mini_aoi, dataset_id=gf_noaa.id.item(), provider=\"NOAA\"\n",
    ")"
   ]
  },
  {
   "cell_type": "code",
   "execution_count": null,
   "metadata": {},
   "outputs": [],
   "source": [
    "gf_noaa_lpc_tiles"
   ]
  },
  {
   "cell_type": "code",
   "execution_count": null,
   "metadata": {},
   "outputs": [],
   "source": [
    "m = gf_noaa.explore()\n",
    "gf_noaa_lpc_tiles.explore(m=m, color=\"red\")"
   ]
  }
 ],
 "metadata": {
  "language_info": {
   "codemirror_mode": {
    "name": "ipython",
    "version": 3
   },
   "file_extension": ".py",
   "mimetype": "text/x-python",
   "name": "python",
   "nbconvert_exporter": "python",
   "pygments_lexer": "ipython3"
  },
  "pixi-kernel": {
   "environment": "dev"
  }
 },
 "nbformat": 4,
 "nbformat_minor": 2
}
